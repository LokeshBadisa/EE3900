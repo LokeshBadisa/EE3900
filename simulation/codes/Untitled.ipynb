{
 "cells": [
  {
   "cell_type": "code",
   "execution_count": 2,
   "id": "06313bba",
   "metadata": {},
   "outputs": [],
   "source": [
    "import numpy as np"
   ]
  },
  {
   "cell_type": "code",
   "execution_count": 3,
   "id": "4c33d6c5",
   "metadata": {},
   "outputs": [],
   "source": [
    "#def rectification(A):\n",
    " #   for i in range(0,len(A))"
   ]
  },
  {
   "cell_type": "code",
   "execution_count": 4,
   "id": "9772d0f0",
   "metadata": {},
   "outputs": [],
   "source": [
    "def I(N):\n",
    "    return np.identity(N)"
   ]
  },
  {
   "cell_type": "code",
   "execution_count": 5,
   "id": "8810277d",
   "metadata": {},
   "outputs": [],
   "source": [
    "def w(N):\n",
    "    return np.exp(-1j*2*np.pi/N)"
   ]
  },
  {
   "cell_type": "code",
   "execution_count": 6,
   "id": "63c82c59",
   "metadata": {},
   "outputs": [],
   "source": [
    "def D(N):\n",
    "    list=[]\n",
    "    for i in range(0,N):\n",
    "        list.append(pow(w(2*N),i))\n",
    "    return np.diag(list)"
   ]
  },
  {
   "cell_type": "code",
   "execution_count": 7,
   "id": "41b5d3dd",
   "metadata": {},
   "outputs": [
    {
     "data": {
      "text/plain": [
       "array([[0., 0.],\n",
       "       [1., 0.],\n",
       "       [0., 0.],\n",
       "       [0., 1.]])"
      ]
     },
     "execution_count": 7,
     "metadata": {},
     "output_type": "execute_result"
    }
   ],
   "source": [
    "def e(k,N):\n",
    "    e=np.zeros([N,len(k)])\n",
    "    for i in range(0,len(k)):\n",
    "                e[k[i]-1,i]=1\n",
    "    return e\n",
    "e([2,4],4)"
   ]
  },
  {
   "cell_type": "code",
   "execution_count": 8,
   "id": "be9d1c37",
   "metadata": {},
   "outputs": [
    {
     "name": "stdout",
     "output_type": "stream",
     "text": [
      "[1] []\n",
      "[1] [2]\n",
      "[1, 3] [2]\n",
      "[1, 3] [2, 4]\n"
     ]
    },
    {
     "data": {
      "text/plain": [
       "array([[1., 0., 0., 0.],\n",
       "       [0., 0., 1., 0.],\n",
       "       [0., 1., 0., 0.],\n",
       "       [0., 0., 0., 1.]])"
      ]
     },
     "execution_count": 8,
     "metadata": {},
     "output_type": "execute_result"
    }
   ],
   "source": [
    "def P(N):\n",
    "    evenlist=[]\n",
    "    oddlist=[]\n",
    "    for i in range(1,N+1):\n",
    "        if(i%2==0):\n",
    "            oddlist.append(int(i))\n",
    "        else:\n",
    "            evenlist.append(int(i))\n",
    "        print(evenlist,oddlist)\n",
    "    return np.concatenate((e(evenlist,int(N)),e(oddlist,int(N))),axis=1)\n",
    "P(4)"
   ]
  },
  {
   "cell_type": "code",
   "execution_count": 9,
   "id": "ace967cd",
   "metadata": {},
   "outputs": [
    {
     "ename": "SyntaxError",
     "evalue": "invalid syntax. Maybe you meant '==' or ':=' instead of '='? (323943597.py, line 12)",
     "output_type": "error",
     "traceback": [
      "\u001b[0;36m  Input \u001b[0;32mIn [9]\u001b[0;36m\u001b[0m\n\u001b[0;31m    B1=np.concatenate((F(int(N/2)),np.zeros(((int(N/2),int(N/2)),dtype=int))),axis=1)\u001b[0m\n\u001b[0m                                                                 ^\u001b[0m\n\u001b[0;31mSyntaxError\u001b[0m\u001b[0;31m:\u001b[0m invalid syntax. Maybe you meant '==' or ':=' instead of '='?\n"
     ]
    }
   ],
   "source": [
    "def F(N):\n",
    "    if N==1:\n",
    "        return np.ones(1)\n",
    "    else:\n",
    "        A1=np.concatenate((I(int(N/2)),D(int(N/2))),axis=1)\n",
    "        A2=np.concatenate((I(int(N/2)),-D(int(N/2))),axis=1)\n",
    "        A=np.concatenate((A1,A2))\n",
    "        if N==2:\n",
    "            B1=np.array(1,0)\n",
    "            B2=np.array(0,1)\n",
    "        else:\n",
    "            B1=np.concatenate((F(int(N/2)),np.zeros(((int(N/2),int(N/2)),dtype=int))),axis=1)\n",
    "            B2=np.concatenate(((np.zeros(((int(N/2),int(N/2))),dtype=int),(F(int(N/2))))),axis=1)\n",
    "        B=np.concatenate((B1,B2))\n",
    "        A=np.matmul(A,B)\n",
    "        A=np.matmul(A,P(N))\n",
    "        return A"
   ]
  },
  {
   "cell_type": "code",
   "execution_count": null,
   "id": "10227946",
   "metadata": {},
   "outputs": [
    {
     "ename": "TypeError",
     "evalue": "Cannot interpret '0' as a data type",
     "output_type": "error",
     "traceback": [
      "\u001b[0;31m---------------------------------------------------------------------------\u001b[0m",
      "\u001b[0;31mTypeError\u001b[0m                                 Traceback (most recent call last)",
      "Input \u001b[0;32mIn [38]\u001b[0m, in \u001b[0;36m<cell line: 1>\u001b[0;34m()\u001b[0m\n\u001b[0;32m----> 1\u001b[0m \u001b[43mF\u001b[49m\u001b[43m(\u001b[49m\u001b[38;5;28;43mint\u001b[39;49m\u001b[43m(\u001b[49m\u001b[38;5;241;43m4\u001b[39;49m\u001b[43m)\u001b[49m\u001b[43m)\u001b[49m\n",
      "Input \u001b[0;32mIn [37]\u001b[0m, in \u001b[0;36mF\u001b[0;34m(N)\u001b[0m\n\u001b[1;32m     10\u001b[0m     B2\u001b[38;5;241m=\u001b[39mnp\u001b[38;5;241m.\u001b[39marray(\u001b[38;5;241m0\u001b[39m,\u001b[38;5;241m1\u001b[39m)\n\u001b[1;32m     11\u001b[0m \u001b[38;5;28;01melse\u001b[39;00m:\n\u001b[0;32m---> 12\u001b[0m     B1\u001b[38;5;241m=\u001b[39mnp\u001b[38;5;241m.\u001b[39mconcatenate((\u001b[43mF\u001b[49m\u001b[43m(\u001b[49m\u001b[38;5;28;43mint\u001b[39;49m\u001b[43m(\u001b[49m\u001b[43mN\u001b[49m\u001b[38;5;241;43m/\u001b[39;49m\u001b[38;5;241;43m2\u001b[39;49m\u001b[43m)\u001b[49m\u001b[43m)\u001b[49m,np\u001b[38;5;241m.\u001b[39mzeros((\u001b[38;5;28mint\u001b[39m(N\u001b[38;5;241m/\u001b[39m\u001b[38;5;241m2\u001b[39m),\u001b[38;5;28mint\u001b[39m(N\u001b[38;5;241m/\u001b[39m\u001b[38;5;241m2\u001b[39m)))),axis\u001b[38;5;241m=\u001b[39m\u001b[38;5;241m1\u001b[39m)\n\u001b[1;32m     13\u001b[0m     B2\u001b[38;5;241m=\u001b[39mnp\u001b[38;5;241m.\u001b[39mconcatenate((np\u001b[38;5;241m.\u001b[39mzeros((\u001b[38;5;28mint\u001b[39m(N\u001b[38;5;241m/\u001b[39m\u001b[38;5;241m2\u001b[39m),\u001b[38;5;28mint\u001b[39m(N\u001b[38;5;241m/\u001b[39m\u001b[38;5;241m2\u001b[39m))),F(\u001b[38;5;28mint\u001b[39m(N\u001b[38;5;241m/\u001b[39m\u001b[38;5;241m2\u001b[39m))),axis\u001b[38;5;241m=\u001b[39m\u001b[38;5;241m1\u001b[39m)\n\u001b[1;32m     14\u001b[0m B\u001b[38;5;241m=\u001b[39mnp\u001b[38;5;241m.\u001b[39mconcatenate((B1,B2))\n",
      "Input \u001b[0;32mIn [37]\u001b[0m, in \u001b[0;36mF\u001b[0;34m(N)\u001b[0m\n\u001b[1;32m      7\u001b[0m A\u001b[38;5;241m=\u001b[39mnp\u001b[38;5;241m.\u001b[39mconcatenate((A1,A2))\n\u001b[1;32m      8\u001b[0m \u001b[38;5;28;01mif\u001b[39;00m N\u001b[38;5;241m==\u001b[39m\u001b[38;5;241m2\u001b[39m:\n\u001b[0;32m----> 9\u001b[0m     B1\u001b[38;5;241m=\u001b[39m\u001b[43mnp\u001b[49m\u001b[38;5;241;43m.\u001b[39;49m\u001b[43marray\u001b[49m\u001b[43m(\u001b[49m\u001b[38;5;241;43m1\u001b[39;49m\u001b[43m,\u001b[49m\u001b[38;5;241;43m0\u001b[39;49m\u001b[43m)\u001b[49m\n\u001b[1;32m     10\u001b[0m     B2\u001b[38;5;241m=\u001b[39mnp\u001b[38;5;241m.\u001b[39marray(\u001b[38;5;241m0\u001b[39m,\u001b[38;5;241m1\u001b[39m)\n\u001b[1;32m     11\u001b[0m \u001b[38;5;28;01melse\u001b[39;00m:\n",
      "\u001b[0;31mTypeError\u001b[0m: Cannot interpret '0' as a data type"
     ]
    }
   ],
   "source": [
    "F(int(4))"
   ]
  }
 ],
 "metadata": {
  "kernelspec": {
   "display_name": "Python 3.10.4 64-bit",
   "language": "python",
   "name": "python3"
  },
  "language_info": {
   "codemirror_mode": {
    "name": "ipython",
    "version": 3
   },
   "file_extension": ".py",
   "mimetype": "text/x-python",
   "name": "python",
   "nbconvert_exporter": "python",
   "pygments_lexer": "ipython3",
   "version": "3.10.4"
  },
  "vscode": {
   "interpreter": {
    "hash": "916dbcbb3f70747c44a77c7bcd40155683ae19c65e1c03b4aa3499c5328201f1"
   }
  }
 },
 "nbformat": 4,
 "nbformat_minor": 5
}
